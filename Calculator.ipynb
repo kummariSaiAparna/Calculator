{
 "cells": [
  {
   "cell_type": "code",
   "execution_count": 1,
   "id": "a8ae8bb9",
   "metadata": {},
   "outputs": [
    {
     "name": "stdout",
     "output_type": "stream",
     "text": [
      "1.Addition\n",
      "2.Subtraction\n",
      "3.Multiplication\n",
      "4.Division\n",
      "Select option 1/2/3/4\n",
      "enter option:2\n",
      "please enter first number25\n",
      "please enter second number7\n",
      "The value is: 18.0\n"
     ]
    }
   ],
   "source": [
    "import math\n",
    "def add (num1,num2):\n",
    "    return num1+num2\n",
    "def sub(num1,num2):\n",
    "    return num1-num2\n",
    "def mul(num1,num2):\n",
    "    return num1*num2\n",
    "def div(num1,num2):\n",
    "    return num1/num2\n",
    "print(\"1.Addition\")\n",
    "print(\"2.Subtraction\")\n",
    "print(\"3.Multiplication\")\n",
    "print(\"4.Division\")\n",
    "print(\"Select option 1/2/3/4\")\n",
    "choice=int(input(\"enter option:\"))\n",
    "num1=float(int(input(\"please enter first number\")))\n",
    "num2=float(int(input(\"please enter second number\")))\n",
    "if choice==1:\n",
    "    n=add(num1,num2)\n",
    "    print(\"The value is:\",n)\n",
    "elif choice==2:\n",
    "    n=sub(num1,num2)\n",
    "    print(\"The value is:\",n)\n",
    "elif choice==3:\n",
    "    n=mul(num1,num2)\n",
    "    print(\"The value is:\",n)\n",
    "elif choice==4:\n",
    "    n=div(num1,num2)\n",
    "    print(\"The value is:\",n)\n",
    "else:\n",
    "    print(\"Invalid\")"
   ]
  },
  {
   "cell_type": "code",
   "execution_count": null,
   "id": "fb22e19a",
   "metadata": {},
   "outputs": [],
   "source": []
  }
 ],
 "metadata": {
  "kernelspec": {
   "display_name": "Python 3 (ipykernel)",
   "language": "python",
   "name": "python3"
  },
  "language_info": {
   "codemirror_mode": {
    "name": "ipython",
    "version": 3
   },
   "file_extension": ".py",
   "mimetype": "text/x-python",
   "name": "python",
   "nbconvert_exporter": "python",
   "pygments_lexer": "ipython3",
   "version": "3.11.3"
  }
 },
 "nbformat": 4,
 "nbformat_minor": 5
}
